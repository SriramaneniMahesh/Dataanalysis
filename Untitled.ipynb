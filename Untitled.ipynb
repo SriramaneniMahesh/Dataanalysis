{
 "cells": [
  {
   "cell_type": "code",
   "execution_count": 2,
   "metadata": {},
   "outputs": [
    {
     "name": "stdout",
     "output_type": "stream",
     "text": [
      "time taken by list concept 0.32810115814208984\n"
     ]
    }
   ],
   "source": [
    "import time\n",
    "s_t=time.time()\n",
    "l1=[x for x in range(1,1000000)]\n",
    "l2=[y for y in range(1,1000000)]\n",
    "op=list(map(lambda x,y : x*y,l1,l2))\n",
    "e_t=time.time()\n",
    "print(\"time taken by list concept\",e_t-s_t)"
   ]
  },
  {
   "cell_type": "code",
   "execution_count": 5,
   "metadata": {},
   "outputs": [
    {
     "name": "stdout",
     "output_type": "stream",
     "text": [
      "time taken by the numpy  0.10934948921203613\n"
     ]
    }
   ],
   "source": [
    "import numpy as np\n",
    "import time\n",
    "s_t1=time.time()\n",
    "a1=np.array(l1)\n",
    "a2=np.array(l2)\n",
    "a1*a2\n",
    "e_t1=time.time()\n",
    "print(\"time taken by the numpy \",e_t1-s_t1)"
   ]
  },
  {
   "cell_type": "code",
   "execution_count": null,
   "metadata": {},
   "outputs": [],
   "source": []
  }
 ],
 "metadata": {
  "kernelspec": {
   "display_name": "Python 3",
   "language": "python",
   "name": "python3"
  },
  "language_info": {
   "codemirror_mode": {
    "name": "ipython",
    "version": 3
   },
   "file_extension": ".py",
   "mimetype": "text/x-python",
   "name": "python",
   "nbconvert_exporter": "python",
   "pygments_lexer": "ipython3",
   "version": "3.6.4"
  }
 },
 "nbformat": 4,
 "nbformat_minor": 2
}
