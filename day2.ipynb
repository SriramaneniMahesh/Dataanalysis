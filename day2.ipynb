{
 "cells": [
  {
   "cell_type": "code",
   "execution_count": 1,
   "metadata": {},
   "outputs": [],
   "source": [
    "##  Linear regression with multiple variable\n",
    "## Polynomial regression"
   ]
  },
  {
   "cell_type": "markdown",
   "metadata": {},
   "source": [
    "* +ve Linear relation\n",
    "    - input and output have increased vice versa\n",
    "* -ve Linear relation\n",
    "    - input and output have decreased vice versa\n",
    "### Polynomial regeression formula\n",
    " - y=ax^2+bx+c(for degree 2)\n",
    " - y=ax^3+bx^2+cx+1 (if degree 2)"
   ]
  },
  {
   "cell_type": "markdown",
   "metadata": {},
   "source": [
    "##### Linear regeression with multiple variables\n",
    "- input more than 1 features\n",
    "- output single target\n",
    "#### Steps for ML:\n",
    "- Read data or get data\n",
    "- Data Preprocessing or data wrangling\n",
    "- Sperate the our input data and output data\n",
    "- Apply or train the model\n",
    "- Test the model\n",
    "- Evalution matrices (score) for the model"
   ]
  },
  {
   "cell_type": "code",
   "execution_count": 2,
   "metadata": {},
   "outputs": [],
   "source": [
    "# import required packages:\n",
    "import numpy as np\n",
    "import pandas as pd\n",
    "import matplotlib.pyplot as plt\n",
    "import seaborn as sns"
   ]
  },
  {
   "cell_type": "code",
   "execution_count": 5,
   "metadata": {},
   "outputs": [
    {
     "data": {
      "text/html": [
       "<div>\n",
       "<style scoped>\n",
       "    .dataframe tbody tr th:only-of-type {\n",
       "        vertical-align: middle;\n",
       "    }\n",
       "\n",
       "    .dataframe tbody tr th {\n",
       "        vertical-align: top;\n",
       "    }\n",
       "\n",
       "    .dataframe thead th {\n",
       "        text-align: right;\n",
       "    }\n",
       "</style>\n",
       "<table border=\"1\" class=\"dataframe\">\n",
       "  <thead>\n",
       "    <tr style=\"text-align: right;\">\n",
       "      <th></th>\n",
       "      <th>Gender</th>\n",
       "      <th>Age Range</th>\n",
       "      <th>Head Size(cm^3)</th>\n",
       "      <th>Brain Weight(grams)</th>\n",
       "    </tr>\n",
       "  </thead>\n",
       "  <tbody>\n",
       "    <tr>\n",
       "      <th>0</th>\n",
       "      <td>1</td>\n",
       "      <td>1</td>\n",
       "      <td>4512</td>\n",
       "      <td>1530</td>\n",
       "    </tr>\n",
       "    <tr>\n",
       "      <th>1</th>\n",
       "      <td>1</td>\n",
       "      <td>1</td>\n",
       "      <td>3738</td>\n",
       "      <td>1297</td>\n",
       "    </tr>\n",
       "    <tr>\n",
       "      <th>2</th>\n",
       "      <td>1</td>\n",
       "      <td>1</td>\n",
       "      <td>4261</td>\n",
       "      <td>1335</td>\n",
       "    </tr>\n",
       "    <tr>\n",
       "      <th>3</th>\n",
       "      <td>1</td>\n",
       "      <td>1</td>\n",
       "      <td>3777</td>\n",
       "      <td>1282</td>\n",
       "    </tr>\n",
       "    <tr>\n",
       "      <th>4</th>\n",
       "      <td>1</td>\n",
       "      <td>1</td>\n",
       "      <td>4177</td>\n",
       "      <td>1590</td>\n",
       "    </tr>\n",
       "  </tbody>\n",
       "</table>\n",
       "</div>"
      ],
      "text/plain": [
       "   Gender  Age Range  Head Size(cm^3)  Brain Weight(grams)\n",
       "0       1          1             4512                 1530\n",
       "1       1          1             3738                 1297\n",
       "2       1          1             4261                 1335\n",
       "3       1          1             3777                 1282\n",
       "4       1          1             4177                 1590"
      ]
     },
     "execution_count": 5,
     "metadata": {},
     "output_type": "execute_result"
    }
   ],
   "source": [
    "# Read the data\n",
    "head_df=pd.read_csv(\"https://raw.githubusercontent.com/AP-State-Skill-Development-Corporation/Datasets/master/Regression/headbrain.csv\")\n",
    "head_df.head()"
   ]
  },
  {
   "cell_type": "code",
   "execution_count": 6,
   "metadata": {},
   "outputs": [
    {
     "data": {
      "text/plain": [
       "Index(['Gender', 'Age Range', 'Head Size(cm^3)', 'Brain Weight(grams)'], dtype='object')"
      ]
     },
     "execution_count": 6,
     "metadata": {},
     "output_type": "execute_result"
    }
   ],
   "source": [
    "head_df.columns"
   ]
  },
  {
   "cell_type": "code",
   "execution_count": 7,
   "metadata": {},
   "outputs": [
    {
     "data": {
      "text/plain": [
       "array([1, 2], dtype=int64)"
      ]
     },
     "execution_count": 7,
     "metadata": {},
     "output_type": "execute_result"
    }
   ],
   "source": [
    "head_df.Gender.unique()"
   ]
  },
  {
   "cell_type": "code",
   "execution_count": 8,
   "metadata": {},
   "outputs": [
    {
     "data": {
      "text/plain": [
       "1    134\n",
       "2    103\n",
       "Name: Gender, dtype: int64"
      ]
     },
     "execution_count": 8,
     "metadata": {},
     "output_type": "execute_result"
    }
   ],
   "source": [
    "head_df['Gender'].value_counts()"
   ]
  },
  {
   "cell_type": "code",
   "execution_count": 9,
   "metadata": {},
   "outputs": [
    {
     "data": {
      "text/plain": [
       "<bound method DataFrame.info of      Gender  Age Range  Head Size(cm^3)  Brain Weight(grams)\n",
       "0         1          1             4512                 1530\n",
       "1         1          1             3738                 1297\n",
       "2         1          1             4261                 1335\n",
       "3         1          1             3777                 1282\n",
       "4         1          1             4177                 1590\n",
       "..      ...        ...              ...                  ...\n",
       "232       2          2             3214                 1110\n",
       "233       2          2             3394                 1215\n",
       "234       2          2             3233                 1104\n",
       "235       2          2             3352                 1170\n",
       "236       2          2             3391                 1120\n",
       "\n",
       "[237 rows x 4 columns]>"
      ]
     },
     "execution_count": 9,
     "metadata": {},
     "output_type": "execute_result"
    }
   ],
   "source": [
    "head_df.info"
   ]
  },
  {
   "cell_type": "code",
   "execution_count": 10,
   "metadata": {},
   "outputs": [
    {
     "data": {
      "text/html": [
       "<div>\n",
       "<style scoped>\n",
       "    .dataframe tbody tr th:only-of-type {\n",
       "        vertical-align: middle;\n",
       "    }\n",
       "\n",
       "    .dataframe tbody tr th {\n",
       "        vertical-align: top;\n",
       "    }\n",
       "\n",
       "    .dataframe thead th {\n",
       "        text-align: right;\n",
       "    }\n",
       "</style>\n",
       "<table border=\"1\" class=\"dataframe\">\n",
       "  <thead>\n",
       "    <tr style=\"text-align: right;\">\n",
       "      <th></th>\n",
       "      <th>Gender</th>\n",
       "      <th>Age Range</th>\n",
       "      <th>Head Size(cm^3)</th>\n",
       "      <th>Brain Weight(grams)</th>\n",
       "    </tr>\n",
       "  </thead>\n",
       "  <tbody>\n",
       "    <tr>\n",
       "      <th>count</th>\n",
       "      <td>237.000000</td>\n",
       "      <td>237.000000</td>\n",
       "      <td>237.000000</td>\n",
       "      <td>237.000000</td>\n",
       "    </tr>\n",
       "    <tr>\n",
       "      <th>mean</th>\n",
       "      <td>1.434599</td>\n",
       "      <td>1.535865</td>\n",
       "      <td>3633.991561</td>\n",
       "      <td>1282.873418</td>\n",
       "    </tr>\n",
       "    <tr>\n",
       "      <th>std</th>\n",
       "      <td>0.496753</td>\n",
       "      <td>0.499768</td>\n",
       "      <td>365.261422</td>\n",
       "      <td>120.340446</td>\n",
       "    </tr>\n",
       "    <tr>\n",
       "      <th>min</th>\n",
       "      <td>1.000000</td>\n",
       "      <td>1.000000</td>\n",
       "      <td>2720.000000</td>\n",
       "      <td>955.000000</td>\n",
       "    </tr>\n",
       "    <tr>\n",
       "      <th>25%</th>\n",
       "      <td>1.000000</td>\n",
       "      <td>1.000000</td>\n",
       "      <td>3389.000000</td>\n",
       "      <td>1207.000000</td>\n",
       "    </tr>\n",
       "    <tr>\n",
       "      <th>50%</th>\n",
       "      <td>1.000000</td>\n",
       "      <td>2.000000</td>\n",
       "      <td>3614.000000</td>\n",
       "      <td>1280.000000</td>\n",
       "    </tr>\n",
       "    <tr>\n",
       "      <th>75%</th>\n",
       "      <td>2.000000</td>\n",
       "      <td>2.000000</td>\n",
       "      <td>3876.000000</td>\n",
       "      <td>1350.000000</td>\n",
       "    </tr>\n",
       "    <tr>\n",
       "      <th>max</th>\n",
       "      <td>2.000000</td>\n",
       "      <td>2.000000</td>\n",
       "      <td>4747.000000</td>\n",
       "      <td>1635.000000</td>\n",
       "    </tr>\n",
       "  </tbody>\n",
       "</table>\n",
       "</div>"
      ],
      "text/plain": [
       "           Gender   Age Range  Head Size(cm^3)  Brain Weight(grams)\n",
       "count  237.000000  237.000000       237.000000           237.000000\n",
       "mean     1.434599    1.535865      3633.991561          1282.873418\n",
       "std      0.496753    0.499768       365.261422           120.340446\n",
       "min      1.000000    1.000000      2720.000000           955.000000\n",
       "25%      1.000000    1.000000      3389.000000          1207.000000\n",
       "50%      1.000000    2.000000      3614.000000          1280.000000\n",
       "75%      2.000000    2.000000      3876.000000          1350.000000\n",
       "max      2.000000    2.000000      4747.000000          1635.000000"
      ]
     },
     "execution_count": 10,
     "metadata": {},
     "output_type": "execute_result"
    }
   ],
   "source": [
    "head_df.describe()"
   ]
  },
  {
   "cell_type": "code",
   "execution_count": 12,
   "metadata": {},
   "outputs": [],
   "source": [
    "input_data=head_df.drop(\"Brain Weight(grams)\",axis=1)\n",
    "output_data=head_df[\"Brain Weight(grams)\"]"
   ]
  },
  {
   "cell_type": "code",
   "execution_count": 15,
   "metadata": {},
   "outputs": [
    {
     "data": {
      "text/plain": [
       "Index(['Gender', 'Age Range', 'Head Size(cm^3)'], dtype='object')"
      ]
     },
     "execution_count": 15,
     "metadata": {},
     "output_type": "execute_result"
    }
   ],
   "source": [
    "input_data.columns\n"
   ]
  },
  {
   "cell_type": "code",
   "execution_count": 18,
   "metadata": {},
   "outputs": [],
   "source": [
    "# Applying the model\n",
    "from sklearn.linear_model import LinearRegression\n",
    "linear=LinearRegression()"
   ]
  },
  {
   "cell_type": "code",
   "execution_count": 20,
   "metadata": {},
   "outputs": [
    {
     "data": {
      "text/plain": [
       "LinearRegression()"
      ]
     },
     "execution_count": 20,
     "metadata": {},
     "output_type": "execute_result"
    }
   ],
   "source": [
    "# Train the model by using fit method\n",
    "linear.fit(input_data,output_data)"
   ]
  },
  {
   "cell_type": "code",
   "execution_count": 24,
   "metadata": {},
   "outputs": [
    {
     "data": {
      "text/plain": [
       "array([1519.93452386, 1330.91463003, 1458.63737483, 1340.43888825,\n",
       "       1438.1235879 , 1293.55023241, 1342.39258224, 1287.20072693,\n",
       "       1300.38816139, 1390.50229682, 1258.87216403, 1393.18862606,\n",
       "       1306.98187861, 1445.69415212, 1353.87053445, 1364.61585141,\n",
       "       1272.05959849, 1264.48903426, 1173.88647533, 1498.44388994,\n",
       "       1365.10427491, 1406.13184876, 1347.03260547, 1324.07670105,\n",
       "       1577.32428491, 1498.19967819, 1403.68973127, 1400.27076679,\n",
       "       1261.55849328, 1437.6351644 , 1342.88100574, 1345.07891148,\n",
       "       1420.05191847, 1434.21619992, 1433.48356467, 1349.47472296,\n",
       "       1279.38595096, 1333.35674752, 1232.25308338, 1270.83853974,\n",
       "       1385.61806184, 1274.01329248, 1471.82480928, 1347.03260547,\n",
       "       1361.44109867, 1403.20130777, 1470.11532704, 1190.98129777,\n",
       "       1307.22609036, 1307.95872561, 1368.27902765, 1344.34627623,\n",
       "       1460.83528057, 1410.2834485 , 1397.82864929, 1262.53534027,\n",
       "       1368.0348159 , 1411.46881323, 1355.05589918, 1290.09557391,\n",
       "       1338.20528849, 1222.69313114, 1478.87125599, 1432.7152354 ,\n",
       "       1304.25985536, 1207.0635792 , 1228.06578963, 1217.56468441,\n",
       "       1475.940715  , 1463.97433929, 1372.88335686, 1336.25159449,\n",
       "       1400.47928452, 1384.84973257, 1327.94839502, 1222.93734289,\n",
       "       1262.98806975, 1215.12256692, 1353.83484043, 1330.63472426,\n",
       "       1329.41366552, 1335.763171  , 1187.52663927, 1267.62809299,\n",
       "       1354.56747568, 1334.2979005 , 1202.17934422, 1225.86788388,\n",
       "       1250.2890588 , 1348.2179702 , 1410.00354273, 1204.37724996,\n",
       "       1288.38609166, 1346.26427621, 1297.66613813, 1316.95886631,\n",
       "       1242.23007108, 1246.38167081, 1286.43239767, 1243.45112982,\n",
       "       1247.60272956, 1330.39051251, 1340.64740598, 1288.14187991,\n",
       "       1277.6407747 , 1284.96712717, 1378.74443884, 1224.15840164,\n",
       "       1350.41587594, 1475.940715  , 1296.44507938, 1254.68487028,\n",
       "       1266.16282249, 1271.77969272, 1220.25101365, 1248.57957655,\n",
       "       1270.55863398, 1346.50848796, 1398.76980227, 1355.54432268,\n",
       "       1224.15840164, 1419.7720127 , 1490.10499645, 1276.6639277 ,\n",
       "       1383.38446208, 1317.69150156, 1222.20470765, 1157.00017063,\n",
       "       1383.87288558, 1268.84915173, 1289.36293866, 1256.63856428,\n",
       "       1382.16340333, 1289.60715041, 1093.22082534, 1234.61942809,\n",
       "       1321.31459904, 1201.89505371, 1153.54112738, 1169.90331457,\n",
       "       1267.83222597, 1257.57533251, 1170.88016157, 1235.10785159,\n",
       "       1348.66631494, 1347.68946794, 1226.07201687, 1193.34764249,\n",
       "       1238.28260433, 1150.12216289, 1229.00255786, 1207.02350044,\n",
       "       1294.20709488, 1235.35206334, 1336.45572748, 1166.24013833,\n",
       "       1196.27818348, 1300.80081211, 1373.8201251 , 1193.83606599,\n",
       "       1145.48213966, 1318.38405805, 1261.971144  , 1199.45293622,\n",
       "       1249.51634479, 1148.1684689 , 1188.70761925, 1215.57091166,\n",
       "       1324.24514003, 1266.36695548, 1163.55380909, 1250.98161528,\n",
       "       1267.58801423, 1304.95241184, 1278.33333119, 1177.71809054,\n",
       "       1276.86806069, 1265.14589673, 1367.22640787, 1258.30796776,\n",
       "       1296.40500062, 1166.72856183, 1373.57591335, 1172.34543206,\n",
       "       1245.12053331, 1284.92704841, 1282.48493092, 1121.02527073,\n",
       "       1200.3940892 , 1275.85551968, 1144.46959864, 1190.62561923,\n",
       "       1104.17466004, 1271.94813169, 1239.95639256, 1048.73859298,\n",
       "       1118.33894149, 1188.18350174, 1224.57105236, 1176.70554953,\n",
       "       1192.09088972, 1159.85493884, 1171.82131455, 1311.99885855,\n",
       "       1120.53684723, 1273.16919044, 1202.34778319, 1347.16535043,\n",
       "       1181.83399626, 1035.79537028, 1088.78931984, 1245.81747454,\n",
       "       1089.27774334, 1101.48833079, 1247.28274503, 1142.2716929 ,\n",
       "       1164.25075032, 1145.69065739, 1169.6234088 , 1199.17303045,\n",
       "       1197.21933646, 1070.96186215, 1284.8913544 , 1221.15208787,\n",
       "       1262.17966173, 1279.03027242, 1173.53079679, 1398.205606  ,\n",
       "       1283.67029565, 1157.41282135, 1271.45970819, 1276.09973143,\n",
       "       1156.43597435, 1200.3940892 , 1161.07599758, 1190.13719573,\n",
       "       1199.66145395])"
      ]
     },
     "execution_count": 24,
     "metadata": {},
     "output_type": "execute_result"
    }
   ],
   "source": [
    "pred=linear.predict(input_data)\n",
    "pred"
   ]
  },
  {
   "cell_type": "code",
   "execution_count": 26,
   "metadata": {},
   "outputs": [
    {
     "data": {
      "text/plain": [
       "65.28346387526653"
      ]
     },
     "execution_count": 26,
     "metadata": {},
     "output_type": "execute_result"
    }
   ],
   "source": [
    "linear.score(input_data,output_data)*100"
   ]
  },
  {
   "cell_type": "code",
   "execution_count": 30,
   "metadata": {
    "scrolled": true
   },
   "outputs": [
    {
     "data": {
      "text/plain": [
       "array([1615.14141201])"
      ]
     },
     "execution_count": 30,
     "metadata": {},
     "output_type": "execute_result"
    }
   ],
   "source": [
    "linear.predict([[1,2,5000]])"
   ]
  },
  {
   "cell_type": "code",
   "execution_count": 31,
   "metadata": {},
   "outputs": [
    {
     "data": {
      "text/plain": [
       "array([1519.93452386])"
      ]
     },
     "execution_count": 31,
     "metadata": {},
     "output_type": "execute_result"
    }
   ],
   "source": [
    "linear.predict([[1,1,4512]])"
   ]
  },
  {
   "cell_type": "code",
   "execution_count": 33,
   "metadata": {},
   "outputs": [
    {
     "data": {
      "text/plain": [
       "array([-22.5432537 , -23.96844543,   0.24421175])"
      ]
     },
     "execution_count": 33,
     "metadata": {},
     "output_type": "execute_result"
    }
   ],
   "source": [
    "linear.coef_"
   ]
  },
  {
   "cell_type": "code",
   "execution_count": 34,
   "metadata": {},
   "outputs": [
    {
     "data": {
      "text/plain": [
       "464.5628108859038"
      ]
     },
     "execution_count": 34,
     "metadata": {},
     "output_type": "execute_result"
    }
   ],
   "source": [
    "linear.intercept_\n"
   ]
  },
  {
   "cell_type": "code",
   "execution_count": null,
   "metadata": {},
   "outputs": [],
   "source": []
  }
 ],
 "metadata": {
  "kernelspec": {
   "display_name": "Python 3",
   "language": "python",
   "name": "python3"
  },
  "language_info": {
   "codemirror_mode": {
    "name": "ipython",
    "version": 3
   },
   "file_extension": ".py",
   "mimetype": "text/x-python",
   "name": "python",
   "nbconvert_exporter": "python",
   "pygments_lexer": "ipython3",
   "version": "3.8.5"
  }
 },
 "nbformat": 4,
 "nbformat_minor": 4
}
